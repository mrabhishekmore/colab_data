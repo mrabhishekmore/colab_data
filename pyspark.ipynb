{
  "cells": [
    {
      "cell_type": "markdown",
      "metadata": {
        "id": "view-in-github",
        "colab_type": "text"
      },
      "source": [
        "<a href=\"https://colab.research.google.com/github/mrabhishekmore/colab_data/blob/main/pyspark.ipynb\" target=\"_parent\"><img src=\"https://colab.research.google.com/assets/colab-badge.svg\" alt=\"Open In Colab\"/></a>"
      ]
    },
    {
      "cell_type": "code",
      "source": [
        "!pip install -q pyspark==3.4.1 spark-nlp==5.1.2"
      ],
      "metadata": {
        "id": "EuF5euWzfpH6",
        "outputId": "f33c00c0-dc76-4f02-932e-fca063b7e2ec",
        "colab": {
          "base_uri": "https://localhost:8080/"
        }
      },
      "execution_count": 1,
      "outputs": [
        {
          "output_type": "stream",
          "name": "stdout",
          "text": [
            "\u001b[2K     \u001b[90m━━━━━━━━━━━━━━━━━━━━━━━━━━━━━━━━━━━━━━━━\u001b[0m \u001b[32m310.8/310.8 MB\u001b[0m \u001b[31m4.3 MB/s\u001b[0m eta \u001b[36m0:00:00\u001b[0m\n",
            "\u001b[?25h  Preparing metadata (setup.py) ... \u001b[?25l\u001b[?25hdone\n",
            "\u001b[2K     \u001b[90m━━━━━━━━━━━━━━━━━━━━━━━━━━━━━━━━━━━━━━━━\u001b[0m \u001b[32m536.3/536.3 kB\u001b[0m \u001b[31m49.5 MB/s\u001b[0m eta \u001b[36m0:00:00\u001b[0m\n",
            "\u001b[?25h  Building wheel for pyspark (setup.py) ... \u001b[?25l\u001b[?25hdone\n"
          ]
        }
      ]
    },
    {
      "cell_type": "markdown",
      "source": [
        "#RDD"
      ],
      "metadata": {
        "id": "BxWyzo2-FdQ_"
      }
    },
    {
      "cell_type": "code",
      "source": [
        "from pyspark.sql import SparkSession\n",
        "from pyspark.sql import Row\n",
        "\n",
        "# Create a Spark session\n",
        "spark = SparkSession.builder.appName(\"example\").getOrCreate()\n",
        "\n",
        "data = [\n",
        "    (\"John\", 25),\n",
        "    (\"Alice\", 30),\n",
        "    (\"Bob\", 28),\n",
        "    (\"Jane\", 35),\n",
        "    (\"Phil\", 30)\n",
        "]\n",
        "rdd=spark.sparkContext.parallelize(data)"
      ],
      "metadata": {
        "id": "018VcSw3DRvg"
      },
      "execution_count": 11,
      "outputs": []
    },
    {
      "cell_type": "markdown",
      "source": [
        "Sample function to create another rdd"
      ],
      "metadata": {
        "id": "HDLazb6zLXf-"
      }
    },
    {
      "cell_type": "code",
      "source": [
        "def add_suffix_to_name(tuple):\n",
        "    name_with_suffix = \"emp_\" + tuple[0]\n",
        "    return (name_with_suffix, tuple[1])\n",
        "\n",
        "new_rdd = rdd.map(add_suffix_to_name)\n",
        "\n",
        "new_rdd.collect()"
      ],
      "metadata": {
        "colab": {
          "base_uri": "https://localhost:8080/"
        },
        "id": "kOs0pivjI_2y",
        "outputId": "e568b18d-bf51-4c4c-f9b4-2bfce30d58a9"
      },
      "execution_count": 12,
      "outputs": [
        {
          "output_type": "execute_result",
          "data": {
            "text/plain": [
              "[('emp_John', 25),\n",
              " ('emp_Alice', 30),\n",
              " ('emp_Bob', 28),\n",
              " ('emp_Jane', 35),\n",
              " ('emp_Phil', 30)]"
            ]
          },
          "metadata": {},
          "execution_count": 12
        }
      ]
    },
    {
      "cell_type": "markdown",
      "source": [
        "filter"
      ],
      "metadata": {
        "id": "dkflDuNMO80e"
      }
    },
    {
      "cell_type": "code",
      "source": [
        "rdd1 = new_rdd.filter(lambda x: x[1] <=30)\n",
        "rdd1.collect()"
      ],
      "metadata": {
        "id": "tE7Od9SVNCzV",
        "outputId": "603ab662-da13-485c-84fc-d4e229c6ca6e",
        "colab": {
          "base_uri": "https://localhost:8080/"
        }
      },
      "execution_count": 13,
      "outputs": [
        {
          "output_type": "execute_result",
          "data": {
            "text/plain": [
              "[('emp_John', 25), ('emp_Alice', 30), ('emp_Bob', 28), ('emp_Phil', 30)]"
            ]
          },
          "metadata": {},
          "execution_count": 13
        }
      ]
    },
    {
      "cell_type": "markdown",
      "source": [
        "groupBY\n"
      ],
      "metadata": {
        "id": "b6Z-dQ82O-e6"
      }
    },
    {
      "cell_type": "code",
      "source": [
        "grouped_rdd = new_rdd.groupBy(lambda x: x[1]).mapValues(lambda x: [val[0] for val in x])\n",
        "\n",
        "\n",
        "# Print the result as list\n",
        "print(grouped_rdd.collect())\n",
        "\n",
        "# Print the result as dict\n",
        "print(grouped_rdd.collectAsMap())"
      ],
      "metadata": {
        "id": "w9KrrWRZOBPI",
        "outputId": "860df025-7e84-4815-f2e0-1ac11aea607a",
        "colab": {
          "base_uri": "https://localhost:8080/"
        }
      },
      "execution_count": 22,
      "outputs": [
        {
          "output_type": "stream",
          "name": "stdout",
          "text": [
            "[(30, ['emp_Alice', 'emp_Phil']), (28, ['emp_Bob']), (25, ['emp_John']), (35, ['emp_Jane'])]\n",
            "{30: ['emp_Alice', 'emp_Phil'], 28: ['emp_Bob'], 25: ['emp_John'], 35: ['emp_Jane']}\n"
          ]
        }
      ]
    }
  ],
  "metadata": {
    "colab": {
      "name": "Welcome To Colaboratory",
      "provenance": [],
      "gpuType": "T4",
      "include_colab_link": true
    },
    "kernelspec": {
      "display_name": "Python 3",
      "name": "python3"
    },
    "accelerator": "GPU"
  },
  "nbformat": 4,
  "nbformat_minor": 0
}
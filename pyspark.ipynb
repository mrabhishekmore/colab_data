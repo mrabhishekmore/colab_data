{
  "cells": [
    {
      "cell_type": "markdown",
      "metadata": {
        "id": "view-in-github",
        "colab_type": "text"
      },
      "source": [
        "<a href=\"https://colab.research.google.com/github/mrabhishekmore/colab_data/blob/main/pyspark.ipynb\" target=\"_parent\"><img src=\"https://colab.research.google.com/assets/colab-badge.svg\" alt=\"Open In Colab\"/></a>"
      ]
    },
    {
      "cell_type": "code",
      "source": [
        "!pip install -q pyspark==3.4.1 spark-nlp==5.1.2"
      ],
      "metadata": {
        "id": "EuF5euWzfpH6",
        "outputId": "f33c00c0-dc76-4f02-932e-fca063b7e2ec",
        "colab": {
          "base_uri": "https://localhost:8080/"
        }
      },
      "execution_count": 1,
      "outputs": [
        {
          "output_type": "stream",
          "name": "stdout",
          "text": [
            "\u001b[2K     \u001b[90m━━━━━━━━━━━━━━━━━━━━━━━━━━━━━━━━━━━━━━━━\u001b[0m \u001b[32m310.8/310.8 MB\u001b[0m \u001b[31m4.3 MB/s\u001b[0m eta \u001b[36m0:00:00\u001b[0m\n",
            "\u001b[?25h  Preparing metadata (setup.py) ... \u001b[?25l\u001b[?25hdone\n",
            "\u001b[2K     \u001b[90m━━━━━━━━━━━━━━━━━━━━━━━━━━━━━━━━━━━━━━━━\u001b[0m \u001b[32m536.3/536.3 kB\u001b[0m \u001b[31m49.5 MB/s\u001b[0m eta \u001b[36m0:00:00\u001b[0m\n",
            "\u001b[?25h  Building wheel for pyspark (setup.py) ... \u001b[?25l\u001b[?25hdone\n"
          ]
        }
      ]
    },
    {
      "cell_type": "markdown",
      "source": [
        "#RDD"
      ],
      "metadata": {
        "id": "BxWyzo2-FdQ_"
      }
    },
    {
      "cell_type": "code",
      "source": [
        "from pyspark.sql import SparkSession\n",
        "from pyspark.sql import Row\n",
        "\n",
        "# Create a Spark session\n",
        "spark = SparkSession.builder.appName(\"example\").getOrCreate()\n",
        "\n",
        "data = [\n",
        "    (\"John\", 25),\n",
        "    (\"Alice\", 30),\n",
        "    (\"Bob\", 28),\n",
        "    (\"Jane\", 35)\n",
        "]\n",
        "rdd=spark.sparkContext.parallelize(data)"
      ],
      "metadata": {
        "id": "018VcSw3DRvg"
      },
      "execution_count": 7,
      "outputs": []
    },
    {
      "cell_type": "markdown",
      "source": [
        "Sample function to create another rdd"
      ],
      "metadata": {
        "id": "HDLazb6zLXf-"
      }
    },
    {
      "cell_type": "code",
      "source": [
        "def add_suffix_to_name(tuple):\n",
        "    name_with_suffix = \"emp_\" + tuple[0]\n",
        "    return (name_with_suffix, tuple[1])\n",
        "\n",
        "new_rdd = rdd.map(add_suffix_to_name)\n",
        "\n",
        "new_rdd.collect()"
      ],
      "metadata": {
        "id": "kOs0pivjI_2y",
        "outputId": "6dcca2eb-8296-49b1-8f5b-afaa1fc4065d",
        "colab": {
          "base_uri": "https://localhost:8080/"
        }
      },
      "execution_count": 8,
      "outputs": [
        {
          "output_type": "execute_result",
          "data": {
            "text/plain": [
              "[('emp_John', 25), ('emp_Alice', 30), ('emp_Bob', 28), ('emp_Jane', 35)]"
            ]
          },
          "metadata": {},
          "execution_count": 8
        }
      ]
    },
    {
      "cell_type": "code",
      "source": [
        "from pyspark.sql import SparkSession\n",
        "from pyspark.sql import Row\n",
        "\n",
        "# Create a Spark session\n",
        "spark = SparkSession.builder.appName(\"example\").getOrCreate()\n",
        "\n",
        "\n",
        "\n",
        "# Dummy data\n",
        "data = [(\"card|spec|65\",),\n",
        "        (\"fam|tax|87\",)]\n",
        "\n",
        "# Create DataFrame\n",
        "df = spark.createDataFrame(data, [\"specialty\"])\n",
        "\n",
        "# Show the DataFrame\n",
        "df.show()"
      ],
      "metadata": {
        "id": "0_Bh0lr8gRcR",
        "outputId": "97e98a01-c502-4796-edb4-74c79148d7b3",
        "colab": {
          "base_uri": "https://localhost:8080/"
        }
      },
      "execution_count": null,
      "outputs": [
        {
          "output_type": "stream",
          "name": "stdout",
          "text": [
            "+------------+\n",
            "|   specialty|\n",
            "+------------+\n",
            "|card|spec|65|\n",
            "|  fam|tax|87|\n",
            "+------------+\n",
            "\n"
          ]
        }
      ]
    }
  ],
  "metadata": {
    "colab": {
      "name": "Welcome To Colaboratory",
      "provenance": [],
      "gpuType": "T4",
      "include_colab_link": true
    },
    "kernelspec": {
      "display_name": "Python 3",
      "name": "python3"
    },
    "accelerator": "GPU"
  },
  "nbformat": 4,
  "nbformat_minor": 0
}